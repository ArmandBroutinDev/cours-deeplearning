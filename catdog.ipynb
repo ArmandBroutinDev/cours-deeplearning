{
  "nbformat": 4,
  "nbformat_minor": 0,
  "metadata": {
    "colab": {
      "name": "catdog.ipynb",
      "provenance": [],
      "authorship_tag": "ABX9TyNTSeZshiCW2cn98IqN+LmY",
      "include_colab_link": true
    },
    "kernelspec": {
      "name": "python3",
      "display_name": "Python 3"
    },
    "language_info": {
      "name": "python"
    },
    "accelerator": "GPU"
  },
  "cells": [
    {
      "cell_type": "markdown",
      "metadata": {
        "id": "view-in-github",
        "colab_type": "text"
      },
      "source": [
        "<a href=\"https://colab.research.google.com/github/ArmandBroutinDev/cours-deeplearning/blob/main/catdog.ipynb\" target=\"_parent\"><img src=\"https://colab.research.google.com/assets/colab-badge.svg\" alt=\"Open In Colab\"/></a>"
      ]
    },
    {
      "cell_type": "markdown",
      "source": [
        "exercice pour avoir un deep learning de chat et de chiens"
      ],
      "metadata": {
        "id": "lO2k3gEjwPL3"
      }
    },
    {
      "cell_type": "code",
      "execution_count": null,
      "metadata": {
        "id": "EBl0g5pme_iL"
      },
      "outputs": [],
      "source": [
        "# Utils\n",
        "import sys\n",
        "import os\n",
        "import shutil\n",
        "import time\n",
        "import pickle\n",
        "import numpy as np\n",
        "\n",
        "# Deep Learning Librairies\n",
        "import tensorflow as tf\n",
        "import keras.preprocessing.image as kpi\n",
        "import keras.layers as kl\n",
        "import keras.optimizers as ko\n",
        "import keras.backend as k\n",
        "import keras.models as km\n",
        "import keras.applications as ka\n",
        "\n",
        "# Visualisaiton des données\n",
        "from matplotlib import pyplot as plt"
      ]
    }
  ]
}