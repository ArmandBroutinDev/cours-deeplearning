{
  "nbformat": 4,
  "nbformat_minor": 0,
  "metadata": {
    "colab": {
      "name": "exoprod.ipynb",
      "provenance": [],
      "collapsed_sections": [],
      "authorship_tag": "ABX9TyNrSL17Qy27c3//FymmwmND"
    },
    "kernelspec": {
      "name": "python3",
      "display_name": "Python 3"
    },
    "language_info": {
      "name": "python"
    },
    "accelerator": "GPU"
  },
  "cells": [
    {
      "cell_type": "markdown",
      "source": [
        "# chapitre 2 production"
      ],
      "metadata": {
        "id": "5EZuUgGslC0O"
      }
    },
    {
      "cell_type": "code",
      "source": [
        "#hide\n",
        "!pip install -Uqq fastbook\n",
        "import fastbook\n",
        "fastbook.setup_book()\n",
        "from fastbook import *\n",
        "from fastai.vision.widgets import *"
      ],
      "metadata": {
        "colab": {
          "base_uri": "https://localhost:8080/"
        },
        "id": "Fesx8mjylam2",
        "outputId": "e5268aea-a71e-480e-fdfc-f82ab448bc3d"
      },
      "execution_count": 1,
      "outputs": [
        {
          "output_type": "stream",
          "name": "stdout",
          "text": [
            "\u001b[?25l\r\u001b[K     |▌                               | 10 kB 25.4 MB/s eta 0:00:01\r\u001b[K     |█                               | 20 kB 29.6 MB/s eta 0:00:01\r\u001b[K     |█▍                              | 30 kB 23.4 MB/s eta 0:00:01\r\u001b[K     |█▉                              | 40 kB 17.6 MB/s eta 0:00:01\r\u001b[K     |██▎                             | 51 kB 19.3 MB/s eta 0:00:01\r\u001b[K     |██▊                             | 61 kB 17.7 MB/s eta 0:00:01\r\u001b[K     |███▏                            | 71 kB 16.9 MB/s eta 0:00:01\r\u001b[K     |███▋                            | 81 kB 18.1 MB/s eta 0:00:01\r\u001b[K     |████                            | 92 kB 17.8 MB/s eta 0:00:01\r\u001b[K     |████▌                           | 102 kB 18.9 MB/s eta 0:00:01\r\u001b[K     |█████                           | 112 kB 18.9 MB/s eta 0:00:01\r\u001b[K     |█████▌                          | 122 kB 18.9 MB/s eta 0:00:01\r\u001b[K     |██████                          | 133 kB 18.9 MB/s eta 0:00:01\r\u001b[K     |██████▍                         | 143 kB 18.9 MB/s eta 0:00:01\r\u001b[K     |██████▉                         | 153 kB 18.9 MB/s eta 0:00:01\r\u001b[K     |███████▎                        | 163 kB 18.9 MB/s eta 0:00:01\r\u001b[K     |███████▊                        | 174 kB 18.9 MB/s eta 0:00:01\r\u001b[K     |████████▏                       | 184 kB 18.9 MB/s eta 0:00:01\r\u001b[K     |████████▋                       | 194 kB 18.9 MB/s eta 0:00:01\r\u001b[K     |█████████                       | 204 kB 18.9 MB/s eta 0:00:01\r\u001b[K     |█████████▋                      | 215 kB 18.9 MB/s eta 0:00:01\r\u001b[K     |██████████                      | 225 kB 18.9 MB/s eta 0:00:01\r\u001b[K     |██████████▌                     | 235 kB 18.9 MB/s eta 0:00:01\r\u001b[K     |███████████                     | 245 kB 18.9 MB/s eta 0:00:01\r\u001b[K     |███████████▍                    | 256 kB 18.9 MB/s eta 0:00:01\r\u001b[K     |███████████▉                    | 266 kB 18.9 MB/s eta 0:00:01\r\u001b[K     |████████████▎                   | 276 kB 18.9 MB/s eta 0:00:01\r\u001b[K     |████████████▊                   | 286 kB 18.9 MB/s eta 0:00:01\r\u001b[K     |█████████████▏                  | 296 kB 18.9 MB/s eta 0:00:01\r\u001b[K     |█████████████▋                  | 307 kB 18.9 MB/s eta 0:00:01\r\u001b[K     |██████████████                  | 317 kB 18.9 MB/s eta 0:00:01\r\u001b[K     |██████████████▋                 | 327 kB 18.9 MB/s eta 0:00:01\r\u001b[K     |███████████████                 | 337 kB 18.9 MB/s eta 0:00:01\r\u001b[K     |███████████████▌                | 348 kB 18.9 MB/s eta 0:00:01\r\u001b[K     |████████████████                | 358 kB 18.9 MB/s eta 0:00:01\r\u001b[K     |████████████████▍               | 368 kB 18.9 MB/s eta 0:00:01\r\u001b[K     |████████████████▉               | 378 kB 18.9 MB/s eta 0:00:01\r\u001b[K     |█████████████████▎              | 389 kB 18.9 MB/s eta 0:00:01\r\u001b[K     |█████████████████▊              | 399 kB 18.9 MB/s eta 0:00:01\r\u001b[K     |██████████████████▏             | 409 kB 18.9 MB/s eta 0:00:01\r\u001b[K     |██████████████████▋             | 419 kB 18.9 MB/s eta 0:00:01\r\u001b[K     |███████████████████▏            | 430 kB 18.9 MB/s eta 0:00:01\r\u001b[K     |███████████████████▋            | 440 kB 18.9 MB/s eta 0:00:01\r\u001b[K     |████████████████████            | 450 kB 18.9 MB/s eta 0:00:01\r\u001b[K     |████████████████████▌           | 460 kB 18.9 MB/s eta 0:00:01\r\u001b[K     |█████████████████████           | 471 kB 18.9 MB/s eta 0:00:01\r\u001b[K     |█████████████████████▍          | 481 kB 18.9 MB/s eta 0:00:01\r\u001b[K     |█████████████████████▉          | 491 kB 18.9 MB/s eta 0:00:01\r\u001b[K     |██████████████████████▎         | 501 kB 18.9 MB/s eta 0:00:01\r\u001b[K     |██████████████████████▊         | 512 kB 18.9 MB/s eta 0:00:01\r\u001b[K     |███████████████████████▏        | 522 kB 18.9 MB/s eta 0:00:01\r\u001b[K     |███████████████████████▋        | 532 kB 18.9 MB/s eta 0:00:01\r\u001b[K     |████████████████████████▏       | 542 kB 18.9 MB/s eta 0:00:01\r\u001b[K     |████████████████████████▋       | 552 kB 18.9 MB/s eta 0:00:01\r\u001b[K     |█████████████████████████       | 563 kB 18.9 MB/s eta 0:00:01\r\u001b[K     |█████████████████████████▌      | 573 kB 18.9 MB/s eta 0:00:01\r\u001b[K     |██████████████████████████      | 583 kB 18.9 MB/s eta 0:00:01\r\u001b[K     |██████████████████████████▍     | 593 kB 18.9 MB/s eta 0:00:01\r\u001b[K     |██████████████████████████▉     | 604 kB 18.9 MB/s eta 0:00:01\r\u001b[K     |███████████████████████████▎    | 614 kB 18.9 MB/s eta 0:00:01\r\u001b[K     |███████████████████████████▊    | 624 kB 18.9 MB/s eta 0:00:01\r\u001b[K     |████████████████████████████▏   | 634 kB 18.9 MB/s eta 0:00:01\r\u001b[K     |████████████████████████████▊   | 645 kB 18.9 MB/s eta 0:00:01\r\u001b[K     |█████████████████████████████▏  | 655 kB 18.9 MB/s eta 0:00:01\r\u001b[K     |█████████████████████████████▋  | 665 kB 18.9 MB/s eta 0:00:01\r\u001b[K     |██████████████████████████████  | 675 kB 18.9 MB/s eta 0:00:01\r\u001b[K     |██████████████████████████████▌ | 686 kB 18.9 MB/s eta 0:00:01\r\u001b[K     |███████████████████████████████ | 696 kB 18.9 MB/s eta 0:00:01\r\u001b[K     |███████████████████████████████▍| 706 kB 18.9 MB/s eta 0:00:01\r\u001b[K     |███████████████████████████████▉| 716 kB 18.9 MB/s eta 0:00:01\r\u001b[K     |████████████████████████████████| 720 kB 18.9 MB/s \n",
            "\u001b[K     |████████████████████████████████| 46 kB 3.6 MB/s \n",
            "\u001b[K     |████████████████████████████████| 1.2 MB 38.9 MB/s \n",
            "\u001b[K     |████████████████████████████████| 189 kB 53.6 MB/s \n",
            "\u001b[K     |████████████████████████████████| 56 kB 2.6 MB/s \n",
            "\u001b[K     |████████████████████████████████| 51 kB 316 kB/s \n",
            "\u001b[?25hMounted at /content/gdrive\n"
          ]
        }
      ]
    },
    {
      "cell_type": "markdown",
      "source": [
        ""
      ],
      "metadata": {
        "id": "Q1QrylX5pxy1"
      }
    },
    {
      "cell_type": "code",
      "source": [
        "key = os.environ.get('AZURE_SEARCH_KEY', 'XXX')"
      ],
      "metadata": {
        "id": "V7cXKDIlpzGo"
      },
      "execution_count": null,
      "outputs": []
    },
    {
      "cell_type": "code",
      "source": [
        "class DataLoaders(GetAttr):\n",
        "    def __init__(self, *loaders): self.loaders = loaders\n",
        "    def __getitem__(self, i): return self.loaders[i]\n",
        "    train,valid = add_props(lambda i,self: self[i])"
      ],
      "metadata": {
        "id": "yI6_mUE8pPEN"
      },
      "execution_count": 2,
      "outputs": []
    },
    {
      "cell_type": "code",
      "source": [
        "bears = DataBlock(\n",
        "    blocks=(ImageBlock, CategoryBlock), \n",
        "    get_items=get_image_files, \n",
        "    splitter=RandomSplitter(valid_pct=0.2, seed=42),\n",
        "    get_y=parent_label,\n",
        "    item_tfms=Resize(128))"
      ],
      "metadata": {
        "id": "e0j5Q_eqpTZO"
      },
      "execution_count": 3,
      "outputs": []
    },
    {
      "cell_type": "code",
      "source": [
        "blocks=(ImageBlock, CategoryBlock)"
      ],
      "metadata": {
        "id": "vMN-l2tQpZ5H"
      },
      "execution_count": 4,
      "outputs": []
    },
    {
      "cell_type": "code",
      "source": [
        "get_items=get_image_files"
      ],
      "metadata": {
        "id": "lrtwy9-Mpdhg"
      },
      "execution_count": 5,
      "outputs": []
    },
    {
      "cell_type": "code",
      "source": [
        "splitter=RandomSplitter(valid_pct=0.2, seed=42)"
      ],
      "metadata": {
        "id": "dlDDLdQYpfYd"
      },
      "execution_count": 6,
      "outputs": []
    },
    {
      "cell_type": "code",
      "source": [
        "get_y=parent_label"
      ],
      "metadata": {
        "id": "ip2NTW5yphWE"
      },
      "execution_count": 7,
      "outputs": []
    },
    {
      "cell_type": "code",
      "source": [
        "item_tfms=Resize(128)"
      ],
      "metadata": {
        "id": "4F79Ycv7pkP0"
      },
      "execution_count": 8,
      "outputs": []
    },
    {
      "cell_type": "code",
      "source": [
        "dls = bears.dataloaders(path)"
      ],
      "metadata": {
        "colab": {
          "base_uri": "https://localhost:8080/",
          "height": 165
        },
        "id": "MQiyqF_opmIq",
        "outputId": "cfbf33e1-9e14-4d7f-c5f6-c2426724c91a"
      },
      "execution_count": 9,
      "outputs": [
        {
          "output_type": "error",
          "ename": "NameError",
          "evalue": "ignored",
          "traceback": [
            "\u001b[0;31m---------------------------------------------------------------------------\u001b[0m",
            "\u001b[0;31mNameError\u001b[0m                                 Traceback (most recent call last)",
            "\u001b[0;32m<ipython-input-9-add9d3ce560a>\u001b[0m in \u001b[0;36m<module>\u001b[0;34m()\u001b[0m\n\u001b[0;32m----> 1\u001b[0;31m \u001b[0mdls\u001b[0m \u001b[0;34m=\u001b[0m \u001b[0mbears\u001b[0m\u001b[0;34m.\u001b[0m\u001b[0mdataloaders\u001b[0m\u001b[0;34m(\u001b[0m\u001b[0mpath\u001b[0m\u001b[0;34m)\u001b[0m\u001b[0;34m\u001b[0m\u001b[0;34m\u001b[0m\u001b[0m\n\u001b[0m",
            "\u001b[0;31mNameError\u001b[0m: name 'path' is not defined"
          ]
        }
      ]
    }
  ]
}